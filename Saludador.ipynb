{
 "cells": [
  {
   "cell_type": "code",
   "execution_count": 1,
   "metadata": {},
   "outputs": [],
   "source": [
    "from selenium import webdriver\n",
    "from selenium.webdriver.common.keys import Keys\n",
    "from selenium.webdriver.common.by import By\n",
    "import selenium.common.exceptions\n",
    "import time\n",
    "import random\n",
    "import pandas as pd\n",
    "from datetime import datetime"
   ]
  },
  {
   "cell_type": "code",
   "execution_count": 2,
   "metadata": {},
   "outputs": [],
   "source": [
    "#esta función crea una nueva sesión de Chrome\n",
    "def path():\n",
    "    global chrome\n",
    "    chrome = webdriver.Chrome()\n",
    "\n",
    "#generamos otra función que la cierre\n",
    "def pathclose():\n",
    "    global chrome\n",
    "    chrome = webdriver.Chrome()\n",
    "    chrome.close()"
   ]
  },
  {
   "cell_type": "code",
   "execution_count": 3,
   "metadata": {},
   "outputs": [],
   "source": [
    "#función que nos permite entrar a una url \n",
    "def url_name(url):\n",
    "    chrome.get(url)\n",
    "    #ponemos un tiempo de espera que será de \"carga\"\n",
    "    time.sleep(4)"
   ]
  },
  {
   "cell_type": "code",
   "execution_count": 4,
   "metadata": {},
   "outputs": [],
   "source": [
    "#importamos el usuario y contraseña, debe completarse el documento \n",
    "from contras import password, username"
   ]
  },
  {
   "cell_type": "code",
   "execution_count": 5,
   "metadata": {},
   "outputs": [],
   "source": [
    "#Como realice esto? hay que abrir Instagram en una ventana incognito y ver los diferentes pasos\n",
    "# a realizar para poder entrar en la cuenta que se quiere entrar, siempre poniendo tiempos de sleep para que parezca que lo hace una persona\n",
    "\n",
    "#creamos una función para ingresar nuestro usuario y contraseña\n",
    "def login(username,password):\n",
    "    boton_entrar = chrome.find_element(By.CLASS_NAME, \"_aaco\")\n",
    "    boton_entrar.click()\n",
    "    time.sleep(3)\n",
    "\n",
    "    user = chrome.find_element(By.NAME,\"username\")\n",
    "    user.send_keys(username)\n",
    "    time.sleep(3)\n",
    "\n",
    "    passw = chrome.find_element(By.NAME,\"password\")\n",
    "    passw.send_keys(password)\n",
    "\n",
    "    #simulamos el apretar enter\n",
    "    passw.send_keys(Keys.RETURN)\n",
    "    time.sleep(5)\n",
    "    #aca cuando se repite el código no aparece la ventana y genera el error \"NoSuchElementException\" asi que lo hacemos considerando el posible error\n",
    "    try:\n",
    "        noguardardatos = chrome.find_element(By.CLASS_NAME,\"_aiit\")\n",
    "        noguardardatos.click()\n",
    "        time.sleep(4)\n",
    "    except: \n",
    "        time.sleep(3)\n",
    "\n",
    "#función que envia el mensaje\n",
    "def send_msj(texto):\n",
    "    #ahora estamos parados en el Instagram de la persona que queremos mandarle el mensaje\n",
    "    boton_env_mensj = chrome.find_element(By.CLASS_NAME, \"xjqpnuy\")\n",
    "    boton_env_mensj.click()\n",
    "    time.sleep(3)\n",
    "    #aca cuando se repite el código no aparece la ventana y genera el error \"NoSuchElementException\" asi que lo hacemos como considerando el posible error\n",
    "    try:\n",
    "        no_notif=chrome.find_element(By.XPATH,\"//*[contains(@class,'_a9-- _a9_1')]\")\n",
    "        no_notif.click()\n",
    "        time.sleep(2)\n",
    "    except :\n",
    "        time.sleep(2)\n",
    "    m_box = chrome.find_element(By.TAG_NAME,\"textarea\")\n",
    "    m_box.send_keys(texto)\n",
    "    m_box.send_keys(Keys.RETURN)\n",
    "   \n",
    "   #Esta función se fija si tenemos gente que cumple años en el dia\n",
    "def birthday_check():\n",
    "    df_bday =pd.read_excel(\"Listacumples.xlsx\")\n",
    "    df_bday[\"month\"]= pd.DatetimeIndex(df_bday[\"Birthday\"]).month\n",
    "    df_bday[\"day\"]= pd.DatetimeIndex(df_bday[\"Birthday\"]).day\n",
    "    #Convertimos algunas columnas en listas para usarlas mas fácil \n",
    "    name=list(df_bday[\"Name\"])\n",
    "    birthdate_month=list(df_bday[\"month\"])\n",
    "    birthdate_day=list(df_bday[\"day\"])\n",
    "    instaname=list(df_bday[\"Instagram\"])\n",
    "\n",
    "    #Creamos un diccionario con esta información, Key = nombre, Data =(mes, dia, Instagram)\n",
    "    dictionary={}\n",
    "    for i in range(len(name)):\n",
    "        dictionary[name[i]]=(birthdate_month[i],birthdate_day[i],instaname[i])\n",
    "\n",
    "    #en una variable ponemos el mes y dia en el que estamos\n",
    "    date=datetime.now().month,datetime.now().day\n",
    "\n",
    "    #generaremos una lista que tenga los Instagram de las personas que cumplan este dia\n",
    "    instanames=[]\n",
    "    for i in dictionary:\n",
    "        if dictionary[i][0:2]==date:\n",
    "            instanames.append(dictionary[i][-1])\n",
    "    return (instanames)\n",
    "    \n"
   ]
  },
  {
   "cell_type": "code",
   "execution_count": 6,
   "metadata": {},
   "outputs": [],
   "source": [
    "#Ahora si, podemos utilizar todo\n",
    "path()\n",
    "instanames=birthday_check()\n",
    "time.sleep(1)\n",
    "#en este lugar abro mi instagram por si a alguien le interesa :D\n",
    "url_name(\"https://instagram.com/matiasnharper\")\n",
    "login(username, password)\n",
    "for i in instanames:\n",
    "    url= 'https://instagram.com/' + i\n",
    "    url_name(url)\n",
    "    mensaje = \"en este lugar ponemos el texto que queremos que se envié por medio del bot\"\n",
    "    send_msj(mensaje)\n",
    "    time.sleep(4)\n",
    "pathclose()"
   ]
  },
  {
   "attachments": {},
   "cell_type": "markdown",
   "metadata": {},
   "source": [
    "pyinstaller --distpath=\"Dirección en dónde quiero guardar el ejecutable\" --onefile --key contrasenia -w --windowed --uac-admin --icon \"Dirección y nombre del icono\" --version-file \"Dirección en dónde esta el archivo.txt con la versión\" \"Direccion y nombre del scripy.py\"\n",
    "\n",
    "pyinstaller --distpath=\"D:\\JOSUE\\Escritorio D\\GITHUB\\Armaduras\\CAP 18\" --onefile --key contrasenia -w --windowed --icon \"D:\\JOSUE\\Escritorio D\\GITHUB\\Armaduras\\CAP 18\\IconoOficial.ico\" --version-file \"D:\\JOSUE\\Escritorio D\\GITHUB\\Armaduras\\CAP 18\\version.txt\" \"D:\\JOSUE\\Escritorio D\\GITHUB\\Armaduras\\CAP 18\\main.py\"\n",
    "\n",
    "pyinstaller --distpath=\"/Users/matias/Documents/cursos_data/2022.12.19 Saludador Cumple Instagram/ej\" --onefile --windowed --uac-admin --version-file \"/Users/matias/Documents/cursos_data/2022.12.19 Saludador Cumple Instagram/Listacumples.xlsx\" \"/Users/matias/Documents/cursos_data/2022.12.19 Saludador Cumple Instagram/Saludador.py\""
   ]
  }
 ],
 "metadata": {
  "kernelspec": {
   "display_name": "Python 3",
   "language": "python",
   "name": "python3"
  },
  "language_info": {
   "codemirror_mode": {
    "name": "ipython",
    "version": 3
   },
   "file_extension": ".py",
   "mimetype": "text/x-python",
   "name": "python",
   "nbconvert_exporter": "python",
   "pygments_lexer": "ipython3",
   "version": "3.11.0"
  },
  "orig_nbformat": 4,
  "vscode": {
   "interpreter": {
    "hash": "aee8b7b246df8f9039afb4144a1f6fd8d2ca17a180786b69acc140d282b71a49"
   }
  }
 },
 "nbformat": 4,
 "nbformat_minor": 2
}
